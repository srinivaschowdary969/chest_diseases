{
 "cells": [
  {
   "cell_type": "code",
   "execution_count": 1,
   "metadata": {},
   "outputs": [
    {
     "data": {
      "text/plain": [
       "\" two types of file formats are there\\n\\ntext format : '123'\\nBinary format : 123\\n\""
      ]
     },
     "execution_count": 1,
     "metadata": {},
     "output_type": "execute_result"
    }
   ],
   "source": [
    "\"\"\" two types of file formats are there\n",
    "\n",
    "text format : '123'\n",
    "Binary format : 123\n",
    "\"\"\""
   ]
  },
  {
   "cell_type": "code",
   "execution_count": 2,
   "metadata": {},
   "outputs": [],
   "source": [
    "f = open(\"config/srinu.txt\", \"w\")\n",
    "f.write(\"hello world\")\n",
    "f.close()\n"
   ]
  },
  {
   "cell_type": "code",
   "execution_count": 5,
   "metadata": {},
   "outputs": [],
   "source": [
    "## multiline strings\n",
    "\n",
    "f =open(\"config/ss.txt\", \"w\")\n",
    "f.write(\"hello\")\n",
    "f.write(\"\\nhow are you\")\n",
    "f.close()"
   ]
  },
  {
   "cell_type": "code",
   "execution_count": 6,
   "metadata": {},
   "outputs": [],
   "source": [
    "f =open(\"config/ss.txt\", \"w\")\n",
    "f.write(\"hey\")\n",
    "f.close()"
   ]
  },
  {
   "cell_type": "code",
   "execution_count": 8,
   "metadata": {},
   "outputs": [],
   "source": [
    "f = open(\"config/ss.txt\", \"a\")\n",
    "f.write(\"\\nyou\")\n",
    "f.close()"
   ]
  },
  {
   "cell_type": "code",
   "execution_count": 9,
   "metadata": {},
   "outputs": [],
   "source": [
    "l = ['\\nhello','\\nhow','\\nare']\n",
    "f= open('config/ss.txt',\"w\")\n",
    "f.writelines(l)\n",
    "f.close()"
   ]
  },
  {
   "cell_type": "markdown",
   "metadata": {},
   "source": [
    "## reading file"
   ]
  },
  {
   "cell_type": "code",
   "execution_count": 16,
   "metadata": {},
   "outputs": [
    {
     "name": "stdout",
     "output_type": "stream",
     "text": [
      "\n"
     ]
    }
   ],
   "source": [
    "f = open(\"config/ss.txt\", \"r\")\n",
    "#s=f.read()\n",
    "#print(s)\n",
    "print(f.readline(),end ='')\n",
    "f.close()"
   ]
  },
  {
   "cell_type": "code",
   "execution_count": 19,
   "metadata": {},
   "outputs": [
    {
     "name": "stdout",
     "output_type": "stream",
     "text": [
      "\n"
     ]
    }
   ],
   "source": [
    "f= open(\"config/ss.txt\",'r')\n",
    "print(f.readline(),end ='')\n",
    "f.close()"
   ]
  },
  {
   "cell_type": "markdown",
   "metadata": {},
   "source": []
  },
  {
   "cell_type": "code",
   "execution_count": 21,
   "metadata": {},
   "outputs": [
    {
     "name": "stdout",
     "output_type": "stream",
     "text": [
      "\n",
      "hello\n",
      "how\n",
      "are\n"
     ]
    }
   ],
   "source": [
    "f= open(\"config/ss.txt\", \"r\")\n",
    "s=f.read()\n",
    "print(s)\n"
   ]
  },
  {
   "cell_type": "code",
   "execution_count": 22,
   "metadata": {},
   "outputs": [
    {
     "name": "stdout",
     "output_type": "stream",
     "text": [
      "\n"
     ]
    }
   ],
   "source": [
    "f= open(\"config/ss.txt\",'r')\n",
    "print(f.readline(),end ='')\n",
    "f.close()"
   ]
  },
  {
   "cell_type": "code",
   "execution_count": 25,
   "metadata": {},
   "outputs": [
    {
     "name": "stdout",
     "output_type": "stream",
     "text": [
      "\n",
      "hello\n",
      "how\n",
      "are"
     ]
    }
   ],
   "source": [
    "f= open(\"config/ss.txt\",'r')\n",
    "\n",
    "while True:\n",
    "    data = f.readline()\n",
    "\n",
    "    if data=='':\n",
    "        break\n",
    "    else:\n",
    "        print(data,end='')\n",
    "f.close()"
   ]
  },
  {
   "cell_type": "code",
   "execution_count": 26,
   "metadata": {},
   "outputs": [],
   "source": [
    "with open(\"config/srinu.txt\",'w') as f:\n",
    "    f.write(\"srinu\")\n",
    "    "
   ]
  },
  {
   "cell_type": "code",
   "execution_count": 32,
   "metadata": {},
   "outputs": [],
   "source": [
    "a = ['hello hey ' for i in range(1000)]\n",
    "\n",
    "with open(\"config/srinu.txt\",'w') as f:\n",
    "    f.writelines(a)\n",
    "    "
   ]
  },
  {
   "cell_type": "code",
   "execution_count": 33,
   "metadata": {},
   "outputs": [
    {
     "name": "stdout",
     "output_type": "stream",
     "text": [
      "hello hey hello hey hello hey hello hey hello hey hello hey hello hey hello hey hello hey hello hey hello hey hello hey hello hey hello hey hello hey hello hey hello hey hello hey hello hey hello hey hello hey hello hey hello hey hello hey hello hey hello hey hello hey hello hey hello hey hello hey hello hey hello hey hello hey hello hey hello hey hello hey hello hey hello hey hello hey hello hey hello hey hello hey hello hey hello hey hello hey hello hey hello hey hello hey hello hey hello hey hello hey hello hey hello hey hello hey hello hey hello hey hello hey hello hey hello hey hello hey hello hey hello hey hello hey hello hey hello hey hello hey hello hey hello hey hello hey hello hey hello hey hello hey hello hey hello hey hello hey hello hey hello hey hello hey hello hey hello hey hello hey hello hey hello hey hello hey hello hey hello hey hello hey hello hey hello hey hello hey hello hey hello hey hello hey hello hey hello hey hello hey hello hey hello hey hello hey hello hey hello hey hello hey hello hey hello hey hello hey hello hey hello hey hello hey hello hey hello hey hello hey hello hey hello hey hello hey hello hey hello hey hello hey hello hey hello hey hello hey hello hey hello hey hello hey hello hey hello hey hello hey hello hey hello hey hello hey hello hey hello hey hello hey hello hey hello hey hello hey hello hey hello hey hello hey hello hey hello hey hello hey hello hey hello hey hello hey hello hey hello hey hello hey hello hey hello hey hello hey hello hey hello hey hello hey hello hey hello hey hello hey hello hey hello hey hello hey hello hey hello hey hello hey hello hey hello hey hello hey hello hey hello hey hello hey hello hey hello hey hello hey hello hey hello hey hello hey hello hey hello hey hello hey hello hey hello hey hello hey hello hey hello hey hello hey hello hey hello hey hello hey hello hey hello hey hello hey hello hey hello hey hello hey hello hey hello hey hello hey hello hey hello hey hello hey hello hey hello hey hello hey hello hey hello hey hello hey hello hey hello hey hello hey hello hey hello hey hello hey hello hey hello hey hello hey hello hey hello hey hello hey hello hey hello hey hello hey hello hey hello hey hello hey hello hey hello hey hello hey hello hey hello hey hello hey hello hey hello hey hello hey hello hey hello hey hello hey hello hey hello hey hello hey hello hey hello hey hello hey hello hey hello hey hello hey hello hey hello hey hello hey hello hey hello hey hello hey hello hey hello hey hello hey hello hey hello hey hello hey hello hey hello hey hello hey hello hey hello hey hello hey hello hey hello hey hello hey hello hey hello hey hello hey hello hey hello hey hello hey hello hey hello hey hello hey hello hey hello hey hello hey hello hey hello hey hello hey hello hey hello hey hello hey hello hey hello hey hello hey hello hey hello hey hello hey hello hey hello hey hello hey hello hey hello hey hello hey hello hey hello hey hello hey hello hey hello hey hello hey hello hey hello hey hello hey hello hey hello hey hello hey hello hey hello hey hello hey hello hey hello hey hello hey hello hey hello hey hello hey hello hey hello hey hello hey hello hey hello hey hello hey hello hey hello hey hello hey hello hey hello hey hello hey hello hey hello hey hello hey hello hey hello hey hello hey "
     ]
    }
   ],
   "source": [
    "with open(\"config/srinu.txt\", 'r') as f:\n",
    "    chunk_size = 10\n",
    "\n",
    "    while len(f.read(chunk_size)) > 0:\n",
    "        print(f.read(chunk_size), end ='')\n",
    "        f.read(chunk_size)"
   ]
  },
  {
   "cell_type": "code",
   "execution_count": 35,
   "metadata": {},
   "outputs": [
    {
     "name": "stdout",
     "output_type": "stream",
     "text": [
      "2\n"
     ]
    }
   ],
   "source": [
    "with open(\"config/srinu.txt\", 'r') as f:\n",
    "    f.seek(2)\n",
    "    print(f.tell())"
   ]
  },
  {
   "cell_type": "code",
   "execution_count": 4,
   "metadata": {},
   "outputs": [
    {
     "ename": "FileNotFoundError",
     "evalue": "[Errno 2] No such file or directory: 'config/sample.png'",
     "output_type": "error",
     "traceback": [
      "\u001b[1;31m---------------------------------------------------------------------------\u001b[0m",
      "\u001b[1;31mFileNotFoundError\u001b[0m                         Traceback (most recent call last)",
      "Cell \u001b[1;32mIn[4], line 1\u001b[0m\n\u001b[1;32m----> 1\u001b[0m \u001b[38;5;28;01mwith\u001b[39;00m \u001b[38;5;28;43mopen\u001b[39;49m\u001b[43m(\u001b[49m\u001b[38;5;124;43m\"\u001b[39;49m\u001b[38;5;124;43mconfig/sample.png\u001b[39;49m\u001b[38;5;124;43m\"\u001b[39;49m\u001b[43m,\u001b[49m\u001b[38;5;124;43m'\u001b[39;49m\u001b[38;5;124;43mrb\u001b[39;49m\u001b[38;5;124;43m'\u001b[39;49m\u001b[43m)\u001b[49m \u001b[38;5;28;01mas\u001b[39;00m f:\n\u001b[0;32m      2\u001b[0m     \u001b[38;5;28;01mwith\u001b[39;00m \u001b[38;5;28mopen\u001b[39m(\u001b[38;5;124m\"\u001b[39m\u001b[38;5;124mconfig/sample_copy.png\u001b[39m\u001b[38;5;124m\"\u001b[39m,\u001b[38;5;124m'\u001b[39m\u001b[38;5;124mwb\u001b[39m\u001b[38;5;124m'\u001b[39m) \u001b[38;5;28;01mas\u001b[39;00m wf:\n\u001b[0;32m      3\u001b[0m       wf\u001b[38;5;241m.\u001b[39mwrite(f\u001b[38;5;241m.\u001b[39mread())\n",
      "File \u001b[1;32mc:\\Users\\lenovo\\.conda\\envs\\chest_diseases\\lib\\site-packages\\IPython\\core\\interactiveshell.py:284\u001b[0m, in \u001b[0;36m_modified_open\u001b[1;34m(file, *args, **kwargs)\u001b[0m\n\u001b[0;32m    277\u001b[0m \u001b[38;5;28;01mif\u001b[39;00m file \u001b[38;5;129;01min\u001b[39;00m {\u001b[38;5;241m0\u001b[39m, \u001b[38;5;241m1\u001b[39m, \u001b[38;5;241m2\u001b[39m}:\n\u001b[0;32m    278\u001b[0m     \u001b[38;5;28;01mraise\u001b[39;00m \u001b[38;5;167;01mValueError\u001b[39;00m(\n\u001b[0;32m    279\u001b[0m         \u001b[38;5;124mf\u001b[39m\u001b[38;5;124m\"\u001b[39m\u001b[38;5;124mIPython won\u001b[39m\u001b[38;5;124m'\u001b[39m\u001b[38;5;124mt let you open fd=\u001b[39m\u001b[38;5;132;01m{\u001b[39;00mfile\u001b[38;5;132;01m}\u001b[39;00m\u001b[38;5;124m by default \u001b[39m\u001b[38;5;124m\"\u001b[39m\n\u001b[0;32m    280\u001b[0m         \u001b[38;5;124m\"\u001b[39m\u001b[38;5;124mas it is likely to crash IPython. If you know what you are doing, \u001b[39m\u001b[38;5;124m\"\u001b[39m\n\u001b[0;32m    281\u001b[0m         \u001b[38;5;124m\"\u001b[39m\u001b[38;5;124myou can use builtins\u001b[39m\u001b[38;5;124m'\u001b[39m\u001b[38;5;124m open.\u001b[39m\u001b[38;5;124m\"\u001b[39m\n\u001b[0;32m    282\u001b[0m     )\n\u001b[1;32m--> 284\u001b[0m \u001b[38;5;28;01mreturn\u001b[39;00m \u001b[43mio_open\u001b[49m\u001b[43m(\u001b[49m\u001b[43mfile\u001b[49m\u001b[43m,\u001b[49m\u001b[43m \u001b[49m\u001b[38;5;241;43m*\u001b[39;49m\u001b[43margs\u001b[49m\u001b[43m,\u001b[49m\u001b[43m \u001b[49m\u001b[38;5;241;43m*\u001b[39;49m\u001b[38;5;241;43m*\u001b[39;49m\u001b[43mkwargs\u001b[49m\u001b[43m)\u001b[49m\n",
      "\u001b[1;31mFileNotFoundError\u001b[0m: [Errno 2] No such file or directory: 'config/sample.png'"
     ]
    }
   ],
   "source": [
    "with open(\"config/sample.png\",'rb') as f:\n",
    "    with open(\"config/sample_copy.png\",'wb') as wf:\n",
    "      wf.write(f.read())"
   ]
  },
  {
   "cell_type": "code",
   "execution_count": 7,
   "metadata": {},
   "outputs": [],
   "source": [
    "with open(\"config/srinu.txt\",'w') as f:\n",
    "    f.write(\"5\")"
   ]
  },
  {
   "cell_type": "code",
   "execution_count": 10,
   "metadata": {},
   "outputs": [
    {
     "name": "stdout",
     "output_type": "stream",
     "text": [
      "41\n"
     ]
    }
   ],
   "source": [
    "d={ 'car':'benz',\n",
    "   'tyres': 4,\n",
    "   'engines':1\n",
    "   }\n",
    "with open(\"config/srinu.txt\",'w') as f:\n",
    "    print(f.write(str(d)))"
   ]
  },
  {
   "cell_type": "code",
   "execution_count": null,
   "metadata": {},
   "outputs": [],
   "source": []
  }
 ],
 "metadata": {
  "kernelspec": {
   "display_name": "chest_diseases",
   "language": "python",
   "name": "python3"
  },
  "language_info": {
   "codemirror_mode": {
    "name": "ipython",
    "version": 3
   },
   "file_extension": ".py",
   "mimetype": "text/x-python",
   "name": "python",
   "nbconvert_exporter": "python",
   "pygments_lexer": "ipython3",
   "version": "3.8.20"
  }
 },
 "nbformat": 4,
 "nbformat_minor": 2
}
